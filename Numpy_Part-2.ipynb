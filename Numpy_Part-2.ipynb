{
 "cells": [
  {
   "cell_type": "markdown",
   "id": "06248f3c-80a8-4d22-8929-afd0a7600aea",
   "metadata": {},
   "source": [
    "## Numpy Functions"
   ]
  },
  {
   "cell_type": "code",
   "execution_count": 1,
   "id": "ab73340a-c906-4b40-aa05-e77f96c4a366",
   "metadata": {},
   "outputs": [],
   "source": [
    "import numpy as np"
   ]
  },
  {
   "cell_type": "code",
   "execution_count": 2,
   "id": "9ad7cd93-3855-48e6-ab9d-fcaa79e3bc7f",
   "metadata": {},
   "outputs": [
    {
     "name": "stdout",
     "output_type": "stream",
     "text": [
      "[ 1  2  3  4  5  6  7  8  9 10 11 12]\n"
     ]
    }
   ],
   "source": [
    "#Arrange\n",
    "#np.arrange(start,ends,steps)\n",
    "ar_1d = np.arange(1,13)\n",
    "print(ar_1d)"
   ]
  },
  {
   "cell_type": "code",
   "execution_count": 3,
   "id": "cd1854fa-d263-4865-a167-942471e41f7d",
   "metadata": {},
   "outputs": [
    {
     "name": "stdout",
     "output_type": "stream",
     "text": [
      "[ 1  3  5  7  9 11]\n"
     ]
    }
   ],
   "source": [
    "even_array = np.arange(1,13,2)\n",
    "print(even_array)"
   ]
  },
  {
   "cell_type": "code",
   "execution_count": 4,
   "id": "a28d3c73-968b-4eb4-85d4-e9c065cb337f",
   "metadata": {},
   "outputs": [
    {
     "data": {
      "text/plain": [
       "array([1.        , 2.33333333, 3.66666667, 5.        ])"
      ]
     },
     "execution_count": 4,
     "metadata": {},
     "output_type": "execute_result"
    }
   ],
   "source": [
    "#linespace\n",
    "np.linspace(1,5,4)"
   ]
  },
  {
   "cell_type": "code",
   "execution_count": 5,
   "id": "51ff9916-78f0-4d69-91d9-ca18eeae8a01",
   "metadata": {},
   "outputs": [
    {
     "name": "stdout",
     "output_type": "stream",
     "text": [
      "[[ 1  2  3  4  5  6]\n",
      " [ 7  8  9 10 11 12]]\n"
     ]
    }
   ],
   "source": [
    "#reshape\n",
    "ar_2d = ar_1d.reshape(2,6)\n",
    "print(ar_2d)"
   ]
  },
  {
   "cell_type": "code",
   "execution_count": 6,
   "id": "7b0d5631-8705-4915-8e7f-bde868dd91d7",
   "metadata": {},
   "outputs": [
    {
     "name": "stdout",
     "output_type": "stream",
     "text": [
      "[[[ 1  2]\n",
      "  [ 3  4]\n",
      "  [ 5  6]]\n",
      "\n",
      " [[ 7  8]\n",
      "  [ 9 10]\n",
      "  [11 12]]]\n"
     ]
    }
   ],
   "source": [
    "ar_3d = ar_1d.reshape(2,3,2)\n",
    "print(ar_3d)"
   ]
  },
  {
   "cell_type": "code",
   "execution_count": 7,
   "id": "c77fbf3b-208d-46a8-a5c6-64358b5cfb4f",
   "metadata": {},
   "outputs": [
    {
     "name": "stdout",
     "output_type": "stream",
     "text": [
      "[[ 1  2  3  4  5  6]\n",
      " [ 7  8  9 10 11 12]]\n"
     ]
    }
   ],
   "source": [
    "ar = np.arange(1,13).reshape(2,6)\n",
    "print(ar)"
   ]
  },
  {
   "cell_type": "code",
   "execution_count": 8,
   "id": "c08112c7-fcf9-4b0c-8d09-8160d5f0f7bc",
   "metadata": {},
   "outputs": [
    {
     "data": {
      "text/plain": [
       "array([ 1,  2,  3,  4,  5,  6,  7,  8,  9, 10, 11, 12])"
      ]
     },
     "execution_count": 8,
     "metadata": {},
     "output_type": "execute_result"
    }
   ],
   "source": [
    "#ravel\n",
    "ar.ravel()"
   ]
  },
  {
   "cell_type": "code",
   "execution_count": 9,
   "id": "9c47daf5-30b6-4684-94a1-1f197e1b5ed5",
   "metadata": {},
   "outputs": [
    {
     "data": {
      "text/plain": [
       "array([ 1,  2,  3,  4,  5,  6,  7,  8,  9, 10, 11, 12])"
      ]
     },
     "execution_count": 9,
     "metadata": {},
     "output_type": "execute_result"
    }
   ],
   "source": [
    "#flatten\n",
    "ar.flatten()"
   ]
  },
  {
   "cell_type": "code",
   "execution_count": 10,
   "id": "31ba46c7-04e3-443c-9571-361b083efa1f",
   "metadata": {},
   "outputs": [
    {
     "data": {
      "text/plain": [
       "array([[ 1,  7],\n",
       "       [ 2,  8],\n",
       "       [ 3,  9],\n",
       "       [ 4, 10],\n",
       "       [ 5, 11],\n",
       "       [ 6, 12]])"
      ]
     },
     "execution_count": 10,
     "metadata": {},
     "output_type": "execute_result"
    }
   ],
   "source": [
    "#transpose\n",
    "ar.transpose()"
   ]
  },
  {
   "cell_type": "code",
   "execution_count": null,
   "id": "2f0e6d02-4e28-4c43-9e73-dfa7107f28e0",
   "metadata": {},
   "outputs": [],
   "source": []
  }
 ],
 "metadata": {
  "kernelspec": {
   "display_name": "Python 3 (ipykernel)",
   "language": "python",
   "name": "python3"
  },
  "language_info": {
   "codemirror_mode": {
    "name": "ipython",
    "version": 3
   },
   "file_extension": ".py",
   "mimetype": "text/x-python",
   "name": "python",
   "nbconvert_exporter": "python",
   "pygments_lexer": "ipython3",
   "version": "3.13.5"
  }
 },
 "nbformat": 4,
 "nbformat_minor": 5
}
