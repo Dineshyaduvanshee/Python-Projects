{
 "cells": [
  {
   "cell_type": "markdown",
   "id": "c08785ec-0e8d-4880-8b57-edb893f74741",
   "metadata": {},
   "source": [
    "## String Operation, Comperison and information"
   ]
  },
  {
   "cell_type": "code",
   "execution_count": 1,
   "id": "33c3e46f-9d60-4314-a80f-b265027d078f",
   "metadata": {},
   "outputs": [],
   "source": [
    "import numpy as np"
   ]
  },
  {
   "cell_type": "code",
   "execution_count": 4,
   "id": "0225483a-08c0-4f71-82b3-bced5a08e89e",
   "metadata": {},
   "outputs": [],
   "source": [
    "ch_name = \"Indian AI Production \"\n",
    "str1 = \"Learning Python Numpy\""
   ]
  },
  {
   "cell_type": "code",
   "execution_count": 5,
   "id": "fd853139-2cce-409f-8e91-256b82268e0b",
   "metadata": {},
   "outputs": [
    {
     "data": {
      "text/plain": [
       "np.str_('Indian AI Production Learning Python Numpy')"
      ]
     },
     "execution_count": 5,
     "metadata": {},
     "output_type": "execute_result"
    }
   ],
   "source": [
    "np.char.add(ch_name,str1)"
   ]
  },
  {
   "cell_type": "code",
   "execution_count": 6,
   "id": "97629bb3-85f9-49aa-a90e-2e46d7134a9f",
   "metadata": {},
   "outputs": [
    {
     "data": {
      "text/plain": [
       "array('indian ai production ', dtype='<U21')"
      ]
     },
     "execution_count": 6,
     "metadata": {},
     "output_type": "execute_result"
    }
   ],
   "source": [
    "np.char.lower(ch_name)"
   ]
  },
  {
   "cell_type": "code",
   "execution_count": 7,
   "id": "92bf4dca-577e-419b-b785-691d38147865",
   "metadata": {},
   "outputs": [
    {
     "data": {
      "text/plain": [
       "array('INDIAN AI PRODUCTION ', dtype='<U21')"
      ]
     },
     "execution_count": 7,
     "metadata": {},
     "output_type": "execute_result"
    }
   ],
   "source": [
    "np.char.upper(ch_name)"
   ]
  },
  {
   "cell_type": "code",
   "execution_count": 8,
   "id": "1c6f7c4b-2211-485f-8e3f-026ba2e218f5",
   "metadata": {},
   "outputs": [
    {
     "data": {
      "text/plain": [
       "array('LEARNING PYTHON NUMPY', dtype='<U21')"
      ]
     },
     "execution_count": 8,
     "metadata": {},
     "output_type": "execute_result"
    }
   ],
   "source": [
    "np.char.upper(str1)"
   ]
  },
  {
   "cell_type": "code",
   "execution_count": 9,
   "id": "75ce1da6-52ca-4e4d-93a7-c520dc1dfc8f",
   "metadata": {},
   "outputs": [
    {
     "data": {
      "text/plain": [
       "array('*******************Learning Python Numpy********************',\n",
       "      dtype='<U60')"
      ]
     },
     "execution_count": 9,
     "metadata": {},
     "output_type": "execute_result"
    }
   ],
   "source": [
    "np.char.center(str1,60,fillchar=\"*\")"
   ]
  },
  {
   "cell_type": "code",
   "execution_count": 10,
   "id": "5bee6b7e-e04e-40d8-91bc-962a1664e5c4",
   "metadata": {},
   "outputs": [
    {
     "data": {
      "text/plain": [
       "array(list(['Indian', 'AI', 'Production']), dtype=object)"
      ]
     },
     "execution_count": 10,
     "metadata": {},
     "output_type": "execute_result"
    }
   ],
   "source": [
    "np.char.split(ch_name)"
   ]
  },
  {
   "cell_type": "code",
   "execution_count": 11,
   "id": "f10aa9ec-6fca-4457-ae46-8ef0a98208ce",
   "metadata": {},
   "outputs": [
    {
     "data": {
      "text/plain": [
       "array(list(['Hello', 'Indian']), dtype=object)"
      ]
     },
     "execution_count": 11,
     "metadata": {},
     "output_type": "execute_result"
    }
   ],
   "source": [
    "np.char.split(\"Hello\\nIndian\")"
   ]
  },
  {
   "cell_type": "code",
   "execution_count": 12,
   "id": "48ee37e4-c2a8-45a2-bdd3-5697ee90f2e1",
   "metadata": {},
   "outputs": [
    {
     "data": {
      "text/plain": [
       "array(list(['Hello', 'Indian']), dtype=object)"
      ]
     },
     "execution_count": 12,
     "metadata": {},
     "output_type": "execute_result"
    }
   ],
   "source": [
    "np.char.splitlines(\"Hello\\nIndian\")"
   ]
  },
  {
   "cell_type": "code",
   "execution_count": 13,
   "id": "274a0004-c2ba-44e0-a5b4-b9bf8d9ece00",
   "metadata": {},
   "outputs": [],
   "source": [
    "str2 = \"dmy\"\n",
    "str3 = \"dmy\""
   ]
  },
  {
   "cell_type": "code",
   "execution_count": 14,
   "id": "cbe2e89a-66c4-4c09-8cd0-a55bed80673b",
   "metadata": {},
   "outputs": [
    {
     "data": {
      "text/plain": [
       "array('Indian Artificial Inteligenc Production ', dtype='<U40')"
      ]
     },
     "execution_count": 14,
     "metadata": {},
     "output_type": "execute_result"
    }
   ],
   "source": [
    "np.char.join([\":\",\"/\"],[str2,str3])\n",
    "np.char.replace(ch_name,\"AI\",\"Artificial Inteligence\")"
   ]
  },
  {
   "cell_type": "code",
   "execution_count": 17,
   "id": "df24480a-8a3f-4809-b7f5-c8db13e77e52",
   "metadata": {},
   "outputs": [
    {
     "data": {
      "text/plain": [
       "'Indian AI Production '"
      ]
     },
     "execution_count": 17,
     "metadata": {},
     "output_type": "execute_result"
    }
   ],
   "source": [
    "np.char.equal(str2,str3)\n",
    "np.char.count(ch_name,\"a\")\n",
    "ch_name"
   ]
  },
  {
   "cell_type": "code",
   "execution_count": 19,
   "id": "7fdc1e50-748f-4f07-8de5-aa08dfaa0f8a",
   "metadata": {},
   "outputs": [
    {
     "data": {
      "text/plain": [
       "np.int64(7)"
      ]
     },
     "execution_count": 19,
     "metadata": {},
     "output_type": "execute_result"
    }
   ],
   "source": [
    "np.char.find(ch_name,\"AI\")"
   ]
  },
  {
   "cell_type": "code",
   "execution_count": null,
   "id": "0ad5a167-d4da-496b-80ad-db8f9d7c4bda",
   "metadata": {},
   "outputs": [],
   "source": []
  }
 ],
 "metadata": {
  "kernelspec": {
   "display_name": "Python 3 (ipykernel)",
   "language": "python",
   "name": "python3"
  },
  "language_info": {
   "codemirror_mode": {
    "name": "ipython",
    "version": 3
   },
   "file_extension": ".py",
   "mimetype": "text/x-python",
   "name": "python",
   "nbconvert_exporter": "python",
   "pygments_lexer": "ipython3",
   "version": "3.13.5"
  }
 },
 "nbformat": 4,
 "nbformat_minor": 5
}
