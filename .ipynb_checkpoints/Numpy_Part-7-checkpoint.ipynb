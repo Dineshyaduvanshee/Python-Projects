{
 "cells": [
  {
   "cell_type": "markdown",
   "id": "8f3b8c6b-ca84-4849-8225-873582ccc45d",
   "metadata": {},
   "source": [
    "## Random Sampling With Numpy"
   ]
  },
  {
   "cell_type": "code",
   "execution_count": 1,
   "id": "d4cbc6e7-f048-467c-a950-169339bf5a7c",
   "metadata": {},
   "outputs": [],
   "source": [
    "import numpy as np\n",
    "import random"
   ]
  },
  {
   "cell_type": "code",
   "execution_count": 2,
   "id": "e1330094-46f7-46fb-acb9-71da7254e88d",
   "metadata": {},
   "outputs": [
    {
     "data": {
      "text/plain": [
       "array([0.34243504])"
      ]
     },
     "execution_count": 2,
     "metadata": {},
     "output_type": "execute_result"
    }
   ],
   "source": [
    "np.random.random(1)"
   ]
  },
  {
   "cell_type": "code",
   "execution_count": 3,
   "id": "519bafdc-d3a4-437b-9947-07ac97c22098",
   "metadata": {},
   "outputs": [
    {
     "data": {
      "text/plain": [
       "array([[0.54784702, 0.2980538 , 0.76272828],\n",
       "       [0.03692524, 0.10560097, 0.09226422],\n",
       "       [0.11014052, 0.67552457, 0.75659422]])"
      ]
     },
     "execution_count": 3,
     "metadata": {},
     "output_type": "execute_result"
    }
   ],
   "source": [
    "np.random.random((3,3))"
   ]
  },
  {
   "cell_type": "code",
   "execution_count": 4,
   "id": "690f5961-f5ac-4669-9cfd-7b7337850e4a",
   "metadata": {},
   "outputs": [
    {
     "data": {
      "text/plain": [
       "1"
      ]
     },
     "execution_count": 4,
     "metadata": {},
     "output_type": "execute_result"
    }
   ],
   "source": [
    "np.random.randint(1,4)"
   ]
  },
  {
   "cell_type": "code",
   "execution_count": 6,
   "id": "aed23579-5866-49af-b0e7-c71e61b5af0f",
   "metadata": {},
   "outputs": [
    {
     "data": {
      "text/plain": [
       "array([[3, 1, 1, 2],\n",
       "       [2, 3, 3, 2],\n",
       "       [2, 1, 3, 3],\n",
       "       [3, 2, 2, 3]], dtype=int32)"
      ]
     },
     "execution_count": 6,
     "metadata": {},
     "output_type": "execute_result"
    }
   ],
   "source": [
    "np.random.randint(1,4,(4,4))"
   ]
  },
  {
   "cell_type": "code",
   "execution_count": 7,
   "id": "1c51474f-6dfc-493c-aa99-d585838e893b",
   "metadata": {},
   "outputs": [
    {
     "data": {
      "text/plain": [
       "array([[[3, 1, 1, 3],\n",
       "        [1, 2, 1, 1],\n",
       "        [2, 2, 1, 3],\n",
       "        [1, 2, 2, 3]],\n",
       "\n",
       "       [[1, 1, 1, 3],\n",
       "        [3, 3, 1, 1],\n",
       "        [2, 1, 1, 2],\n",
       "        [2, 3, 1, 3]]], dtype=int32)"
      ]
     },
     "execution_count": 7,
     "metadata": {},
     "output_type": "execute_result"
    }
   ],
   "source": [
    "np.random.randint(1,4,(2,4,4))"
   ]
  },
  {
   "cell_type": "code",
   "execution_count": 9,
   "id": "6dc67c83-8eb6-4fa5-a05e-ce34d6245332",
   "metadata": {},
   "outputs": [
    {
     "data": {
      "text/plain": [
       "array([[[2, 2, 1, 1],\n",
       "        [2, 1, 2, 2],\n",
       "        [1, 2, 2, 3],\n",
       "        [1, 2, 1, 3]],\n",
       "\n",
       "       [[1, 3, 1, 1],\n",
       "        [1, 3, 1, 3],\n",
       "        [3, 2, 1, 1],\n",
       "        [3, 2, 3, 2]]], dtype=int32)"
      ]
     },
     "execution_count": 9,
     "metadata": {},
     "output_type": "execute_result"
    }
   ],
   "source": [
    "np.random.seed(10)\n",
    "np.random.randint(1,4,(2,4,4))"
   ]
  },
  {
   "cell_type": "code",
   "execution_count": 10,
   "id": "766f92a0-613f-4ce7-9d2c-e89a171813f0",
   "metadata": {},
   "outputs": [
    {
     "data": {
      "text/plain": [
       "4294967295"
      ]
     },
     "execution_count": 10,
     "metadata": {},
     "output_type": "execute_result"
    }
   ],
   "source": [
    "2**32-1"
   ]
  },
  {
   "cell_type": "code",
   "execution_count": 11,
   "id": "0fc2ad4a-48cc-4757-bc63-57e135870307",
   "metadata": {},
   "outputs": [
    {
     "data": {
      "text/plain": [
       "array([0.13145815, 0.41366737, 0.77872881])"
      ]
     },
     "execution_count": 11,
     "metadata": {},
     "output_type": "execute_result"
    }
   ],
   "source": [
    "np.random.rand(3)"
   ]
  },
  {
   "cell_type": "code",
   "execution_count": 12,
   "id": "f907e227-1373-461e-8070-be0929e4725c",
   "metadata": {},
   "outputs": [
    {
     "data": {
      "text/plain": [
       "array([[-1.25424191,  0.33157855, -0.30860049],\n",
       "       [-0.15373549,  0.67893119, -1.91355421],\n",
       "       [-0.94245806, -1.74554298, -1.02094527]])"
      ]
     },
     "execution_count": 12,
     "metadata": {},
     "output_type": "execute_result"
    }
   ],
   "source": [
    "np.random.randn(3,3)"
   ]
  },
  {
   "cell_type": "code",
   "execution_count": 15,
   "id": "17d93a71-8046-4f5e-8f4b-64b429b526e1",
   "metadata": {},
   "outputs": [
    {
     "data": {
      "text/plain": [
       "array([[0.18624777, 0.41379781, 0.23100532],\n",
       "       [0.65362293, 0.76437476, 0.83487913],\n",
       "       [0.21221285, 0.9619666 , 0.26114034]])"
      ]
     },
     "execution_count": 15,
     "metadata": {},
     "output_type": "execute_result"
    }
   ],
   "source": [
    "np.random.rand(3,3)"
   ]
  },
  {
   "cell_type": "code",
   "execution_count": 16,
   "id": "b3632861-87de-4a52-8bd7-d5ba4b1445b0",
   "metadata": {},
   "outputs": [],
   "source": [
    "x = [1,2,3,4]"
   ]
  },
  {
   "cell_type": "code",
   "execution_count": 17,
   "id": "2334ec9f-9dfd-4774-bbb5-21c322ec0ff3",
   "metadata": {},
   "outputs": [
    {
     "data": {
      "text/plain": [
       "np.int64(3)"
      ]
     },
     "execution_count": 17,
     "metadata": {},
     "output_type": "execute_result"
    }
   ],
   "source": [
    "np.random.choice(x)"
   ]
  },
  {
   "cell_type": "code",
   "execution_count": 18,
   "id": "7b1fec5a-b75f-4eb3-9566-b4bfdd43e118",
   "metadata": {},
   "outputs": [
    {
     "name": "stdout",
     "output_type": "stream",
     "text": [
      "1\n",
      "2\n",
      "1\n",
      "1\n",
      "4\n",
      "4\n",
      "3\n",
      "2\n",
      "4\n",
      "2\n",
      "4\n",
      "2\n",
      "4\n",
      "3\n",
      "3\n",
      "4\n",
      "2\n",
      "2\n",
      "1\n",
      "1\n"
     ]
    }
   ],
   "source": [
    "for i in range(20):\n",
    "    print(np.random.choice(x))"
   ]
  },
  {
   "cell_type": "code",
   "execution_count": 19,
   "id": "0c97ee48-4919-49cd-b5ee-bbae53492ca0",
   "metadata": {},
   "outputs": [
    {
     "data": {
      "text/plain": [
       "array([4, 1, 2, 3])"
      ]
     },
     "execution_count": 19,
     "metadata": {},
     "output_type": "execute_result"
    }
   ],
   "source": [
    "np.random.permutation(x)"
   ]
  },
  {
   "cell_type": "code",
   "execution_count": null,
   "id": "b88ee6d0-043c-42f0-a2ee-1516cbd260c4",
   "metadata": {},
   "outputs": [],
   "source": []
  }
 ],
 "metadata": {
  "kernelspec": {
   "display_name": "Python 3 (ipykernel)",
   "language": "python",
   "name": "python3"
  },
  "language_info": {
   "codemirror_mode": {
    "name": "ipython",
    "version": 3
   },
   "file_extension": ".py",
   "mimetype": "text/x-python",
   "name": "python",
   "nbconvert_exporter": "python",
   "pygments_lexer": "ipython3",
   "version": "3.13.5"
  }
 },
 "nbformat": 4,
 "nbformat_minor": 5
}
